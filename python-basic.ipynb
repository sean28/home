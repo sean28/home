{
  "cells": [
    {
      "cell_type": "code",
      "execution_count": 1,
      "id": "f6c53ba6",
      "metadata": {
        "ExecuteTime": {
          "end_time": "2022-07-22T02:26:46.945500Z",
          "start_time": "2022-07-22T02:26:46.940847Z"
        },
        "id": "f6c53ba6"
      },
      "outputs": [],
      "source": [
        "import sys\n",
        "import time\n",
        "import os"
      ]
    },
    {
      "cell_type": "code",
      "execution_count": 2,
      "id": "e37570a3",
      "metadata": {
        "ExecuteTime": {
          "end_time": "2022-07-22T02:27:12.466492Z",
          "start_time": "2022-07-22T02:27:12.461479Z"
        },
        "id": "e37570a3",
        "outputId": "5320c154-7845-4055-a150-e911699f5163",
        "colab": {
          "base_uri": "https://localhost:8080/"
        }
      },
      "outputs": [
        {
          "output_type": "stream",
          "name": "stdout",
          "text": [
            "hello world\n"
          ]
        }
      ],
      "source": [
        "print (\"hello world\")"
      ]
    },
    {
      "cell_type": "code",
      "source": [
        "print (os.getcwd())"
      ],
      "metadata": {
        "colab": {
          "base_uri": "https://localhost:8080/"
        },
        "id": "XiybjiW1zPUH",
        "outputId": "40538c3c-2a74-46de-e5d7-54191866c37b"
      },
      "id": "XiybjiW1zPUH",
      "execution_count": 4,
      "outputs": [
        {
          "output_type": "stream",
          "name": "stdout",
          "text": [
            "/content\n"
          ]
        }
      ]
    },
    {
      "cell_type": "code",
      "source": [
        "\n"
      ],
      "metadata": {
        "id": "Qwzyx2gTzOuC"
      },
      "id": "Qwzyx2gTzOuC",
      "execution_count": 5,
      "outputs": []
    },
    {
      "cell_type": "markdown",
      "source": [
        "# type"
      ],
      "metadata": {
        "id": "2UMP58-R0WMB"
      },
      "id": "2UMP58-R0WMB"
    },
    {
      "cell_type": "code",
      "source": [
        "# str\n",
        "a = 'china'\n",
        "b = \"america\"\n",
        "c = \"\"\"\n",
        "fjksbv\n",
        "fsninvf\n",
        "jksf\n",
        "\"\"\" \n",
        "d = a + b + c\n",
        "print (d)"
      ],
      "metadata": {
        "colab": {
          "base_uri": "https://localhost:8080/"
        },
        "id": "hDfzrpxmz8ev",
        "outputId": "a4e09883-e27c-4ef2-d053-02aaed7d321c"
      },
      "id": "hDfzrpxmz8ev",
      "execution_count": 10,
      "outputs": [
        {
          "output_type": "stream",
          "name": "stdout",
          "text": [
            "chinaamerica\n",
            "fjksbv\n",
            "fsninvf\n",
            "jksf\n",
            "\n"
          ]
        }
      ]
    },
    {
      "cell_type": "code",
      "source": [
        "# bool\n",
        "print(bool(2>1))\n",
        "print(bool(1>2))"
      ],
      "metadata": {
        "colab": {
          "base_uri": "https://localhost:8080/"
        },
        "id": "SbpqHvfAz85M",
        "outputId": "deb9dc09-8ea1-47d6-81ec-7b552b550f12"
      },
      "id": "SbpqHvfAz85M",
      "execution_count": 13,
      "outputs": [
        {
          "output_type": "stream",
          "name": "stdout",
          "text": [
            "True\n",
            "False\n"
          ]
        }
      ]
    },
    {
      "cell_type": "code",
      "source": [
        "type(12)"
      ],
      "metadata": {
        "colab": {
          "base_uri": "https://localhost:8080/"
        },
        "id": "Rqds2kwq110_",
        "outputId": "f7731905-bc02-4f5f-c575-6abe3acdc783"
      },
      "id": "Rqds2kwq110_",
      "execution_count": 26,
      "outputs": [
        {
          "output_type": "execute_result",
          "data": {
            "text/plain": [
              "int"
            ]
          },
          "metadata": {},
          "execution_count": 26
        }
      ]
    },
    {
      "cell_type": "code",
      "source": [
        "type(12.324)"
      ],
      "metadata": {
        "colab": {
          "base_uri": "https://localhost:8080/"
        },
        "id": "Lld8Uurhz9J9",
        "outputId": "39ba44ae-ca60-4aab-fb60-ada95075cab1"
      },
      "id": "Lld8Uurhz9J9",
      "execution_count": 27,
      "outputs": [
        {
          "output_type": "execute_result",
          "data": {
            "text/plain": [
              "float"
            ]
          },
          "metadata": {},
          "execution_count": 27
        }
      ]
    },
    {
      "cell_type": "code",
      "source": [
        "a = [1,2,3,4]\n",
        "print(type (a))\n",
        "print(type (a[0]))"
      ],
      "metadata": {
        "colab": {
          "base_uri": "https://localhost:8080/"
        },
        "id": "ryTE7DXxz9oq",
        "outputId": "f308a987-f2b1-4651-833d-cb8027abc446"
      },
      "id": "ryTE7DXxz9oq",
      "execution_count": 32,
      "outputs": [
        {
          "output_type": "stream",
          "name": "stdout",
          "text": [
            "<class 'list'>\n",
            "<class 'int'>\n"
          ]
        }
      ]
    },
    {
      "cell_type": "code",
      "source": [
        "b = {1:'a',2:'sf'}\n",
        "print(type(b))\n",
        "print(type(b[2]))"
      ],
      "metadata": {
        "id": "xl6azll_5Yn9",
        "outputId": "c34c7622-ab09-48e1-eebf-0f5f85f50fbf",
        "colab": {
          "base_uri": "https://localhost:8080/"
        }
      },
      "id": "xl6azll_5Yn9",
      "execution_count": 31,
      "outputs": [
        {
          "output_type": "stream",
          "name": "stdout",
          "text": [
            "<class 'dict'>\n",
            "<class 'str'>\n"
          ]
        }
      ]
    },
    {
      "cell_type": "code",
      "source": [
        ""
      ],
      "metadata": {
        "id": "FV5ZDLvh5Yh-"
      },
      "id": "FV5ZDLvh5Yh-",
      "execution_count": null,
      "outputs": []
    },
    {
      "cell_type": "code",
      "source": [
        ""
      ],
      "metadata": {
        "id": "xMZ8vFwb5XZG"
      },
      "id": "xMZ8vFwb5XZG",
      "execution_count": null,
      "outputs": []
    },
    {
      "cell_type": "markdown",
      "id": "fcdde576",
      "metadata": {
        "id": "fcdde576"
      },
      "source": [
        "# list"
      ]
    },
    {
      "cell_type": "code",
      "execution_count": 15,
      "id": "0317ed45",
      "metadata": {
        "colab": {
          "base_uri": "https://localhost:8080/"
        },
        "id": "0317ed45",
        "outputId": "a2caf190-0906-4b45-af8a-0bc658a77a47"
      },
      "outputs": [
        {
          "output_type": "stream",
          "name": "stdout",
          "text": [
            "['apple', 1, 3, 5, 8.3726]\n",
            "apple\n",
            "1\n",
            "3\n",
            "8.3726\n",
            "apple\n",
            "1\n",
            "3\n",
            "5\n",
            "8.3726\n"
          ]
        }
      ],
      "source": [
        "my_list = [\"apple\", 1, 3, 5, 8.3726] \n",
        "print (my_list)\n",
        "print (my_list[0])\n",
        "print (my_list[1])\n",
        "print (my_list[2])\n",
        "print (my_list[4])\n",
        "for i in my_list:\n",
        "  print (i)"
      ]
    },
    {
      "cell_type": "code",
      "source": [
        "print (type(my_list[0]))\n",
        "print (type(my_list[1]))\n",
        "print (type(my_list[4]))"
      ],
      "metadata": {
        "colab": {
          "base_uri": "https://localhost:8080/"
        },
        "id": "gjn4NCn8zpqx",
        "outputId": "7f54b1af-e098-4090-f9f5-9565e229bf8c"
      },
      "id": "gjn4NCn8zpqx",
      "execution_count": null,
      "outputs": [
        {
          "output_type": "stream",
          "name": "stdout",
          "text": [
            "<class 'str'>\n",
            "<class 'int'>\n",
            "<class 'float'>\n"
          ]
        }
      ]
    },
    {
      "cell_type": "code",
      "source": [
        "my_list2 = [23,45,66,77]\n",
        "my_list_zong = my_list + my_list\n",
        "print (my_list_zong)"
      ],
      "metadata": {
        "id": "mhV9LFqoz_-J",
        "outputId": "36d07167-3574-4a42-b7c7-ba04251db0d2",
        "colab": {
          "base_uri": "https://localhost:8080/"
        }
      },
      "id": "mhV9LFqoz_-J",
      "execution_count": null,
      "outputs": [
        {
          "output_type": "stream",
          "name": "stdout",
          "text": [
            "['apple', 1, 3, 5, 8.3726, 'apple', 1, 3, 5, 8.3726]\n"
          ]
        }
      ]
    },
    {
      "cell_type": "code",
      "source": [
        "my_list_zong [0]= \"car\"\n",
        "print (my_list_zong)"
      ],
      "metadata": {
        "id": "UU1_OhsgGWJT",
        "outputId": "cc1a2234-0fbc-4fbe-bf17-6a9b030b98db",
        "colab": {
          "base_uri": "https://localhost:8080/"
        }
      },
      "id": "UU1_OhsgGWJT",
      "execution_count": null,
      "outputs": [
        {
          "output_type": "stream",
          "name": "stdout",
          "text": [
            "['car', 1, 3, 5, 8.3726, 'apple', 1, 3, 5, 8.3726]\n"
          ]
        }
      ]
    },
    {
      "cell_type": "code",
      "source": [
        "bian_dict = str (my_list_zong)\n",
        "print (bian_dict)\n",
        "print (*my_list_zong)\n",
        "print (len(my_list_zong))"
      ],
      "metadata": {
        "id": "NDc9S4lrGVX9",
        "outputId": "4a2e251d-d470-433e-f404-9bfb0c13839e",
        "colab": {
          "base_uri": "https://localhost:8080/"
        }
      },
      "id": "NDc9S4lrGVX9",
      "execution_count": null,
      "outputs": [
        {
          "output_type": "stream",
          "name": "stdout",
          "text": [
            "['car', 1, 3, 5, 8.3726, 'apple', 1, 3, 5, 8.3726]\n",
            "car 1 3 5 8.3726 apple 1 3 5 8.3726\n",
            "10\n"
          ]
        }
      ]
    },
    {
      "cell_type": "code",
      "source": [
        "print(type (bian_dict))\n",
        "print(type (my_list_zong))"
      ],
      "metadata": {
        "id": "cdKibWZ8HABF",
        "outputId": "f4664f19-441a-4e94-a54f-ee5958e8c02f",
        "colab": {
          "base_uri": "https://localhost:8080/"
        }
      },
      "id": "cdKibWZ8HABF",
      "execution_count": null,
      "outputs": [
        {
          "output_type": "stream",
          "name": "stdout",
          "text": [
            "<class 'str'>\n",
            "<class 'list'>\n"
          ]
        }
      ]
    },
    {
      "cell_type": "markdown",
      "source": [
        "# Dict"
      ],
      "metadata": {
        "id": "8BtGCTGB2ESF"
      },
      "id": "8BtGCTGB2ESF"
    },
    {
      "cell_type": "code",
      "source": [
        "zidian = {1: \"apple\", 2: 5 }\n",
        "\n",
        "print (zidian[1])\n",
        "print (zidian[2])"
      ],
      "metadata": {
        "id": "RJFUxcui0Kr5",
        "outputId": "810d76e9-8fb6-46d5-aaa3-33e43c82c25a",
        "colab": {
          "base_uri": "https://localhost:8080/"
        }
      },
      "id": "RJFUxcui0Kr5",
      "execution_count": null,
      "outputs": [
        {
          "output_type": "stream",
          "name": "stdout",
          "text": [
            "apple\n",
            "5\n"
          ]
        }
      ]
    },
    {
      "cell_type": "code",
      "source": [
        "dict1 = {'1023':'sbrf',\n",
        "         '324':'hrelb',\n",
        "         '45543':'svrbj'}\n",
        "print (dict1)\n",
        "dict1 ['9989'] ='scir'\n",
        "print (dict1)\n",
        "for nu in dict1:\n",
        "    print(nu)\n",
        "print ('---')\n",
        "for nu in dict1:\n",
        "  print(dict1[nu]);"
      ],
      "metadata": {
        "colab": {
          "base_uri": "https://localhost:8080/"
        },
        "id": "kJVlqZo43IBN",
        "outputId": "d72759dd-7798-49ba-8d79-cf8f9023eed8"
      },
      "id": "kJVlqZo43IBN",
      "execution_count": 25,
      "outputs": [
        {
          "output_type": "stream",
          "name": "stdout",
          "text": [
            "{'1023': 'sbrf', '324': 'hrelb', '45543': 'svrbj'}\n",
            "{'1023': 'sbrf', '324': 'hrelb', '45543': 'svrbj', '9989': 'scir'}\n",
            "1023\n",
            "324\n",
            "45543\n",
            "9989\n",
            "---\n",
            "sbrf\n",
            "hrelb\n",
            "svrbj\n",
            "scir\n"
          ]
        }
      ]
    },
    {
      "cell_type": "code",
      "source": [
        ""
      ],
      "metadata": {
        "id": "9wQE-i3X3H94"
      },
      "id": "9wQE-i3X3H94",
      "execution_count": null,
      "outputs": []
    },
    {
      "cell_type": "code",
      "source": [
        ""
      ],
      "metadata": {
        "id": "VbdSKevM3H6O"
      },
      "id": "VbdSKevM3H6O",
      "execution_count": null,
      "outputs": []
    },
    {
      "cell_type": "code",
      "source": [
        ""
      ],
      "metadata": {
        "id": "QkOgJRvc3H3t"
      },
      "id": "QkOgJRvc3H3t",
      "execution_count": null,
      "outputs": []
    },
    {
      "cell_type": "code",
      "source": [
        ""
      ],
      "metadata": {
        "id": "4Brgwu313H1D"
      },
      "id": "4Brgwu313H1D",
      "execution_count": null,
      "outputs": []
    },
    {
      "cell_type": "code",
      "source": [
        ""
      ],
      "metadata": {
        "id": "jOOEKd1U3Hyg"
      },
      "id": "jOOEKd1U3Hyg",
      "execution_count": null,
      "outputs": []
    },
    {
      "cell_type": "code",
      "source": [
        ""
      ],
      "metadata": {
        "id": "J47QqrZ53Hv7"
      },
      "id": "J47QqrZ53Hv7",
      "execution_count": null,
      "outputs": []
    },
    {
      "cell_type": "code",
      "source": [
        ""
      ],
      "metadata": {
        "id": "y17-zDg_3HtD"
      },
      "id": "y17-zDg_3HtD",
      "execution_count": null,
      "outputs": []
    }
  ],
  "metadata": {
    "hide_input": false,
    "kernelspec": {
      "display_name": "Python 3 (ipykernel)",
      "language": "python",
      "name": "python3"
    },
    "language_info": {
      "codemirror_mode": {
        "name": "ipython",
        "version": 3
      },
      "file_extension": ".py",
      "mimetype": "text/x-python",
      "name": "python",
      "nbconvert_exporter": "python",
      "pygments_lexer": "ipython3",
      "version": "3.8.12"
    },
    "toc": {
      "base_numbering": 1,
      "nav_menu": {},
      "number_sections": true,
      "sideBar": true,
      "skip_h1_title": false,
      "title_cell": "Table of Contents",
      "title_sidebar": "Contents",
      "toc_cell": false,
      "toc_position": {},
      "toc_section_display": true,
      "toc_window_display": false
    },
    "vp": {
      "vp_config_version": "1.0.0",
      "vp_menu_width": 273,
      "vp_note_display": false,
      "vp_note_width": 0,
      "vp_position": {
        "width": 278
      },
      "vp_section_display": false,
      "vp_signature": "VisualPython"
    },
    "colab": {
      "name": "python-basic.ipynb",
      "provenance": []
    }
  },
  "nbformat": 4,
  "nbformat_minor": 5
}
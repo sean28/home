{
  "cells": [
    {
      "cell_type": "code",
      "execution_count": null,
      "id": "f6c53ba6",
      "metadata": {
        "ExecuteTime": {
          "end_time": "2022-07-22T02:26:46.945500Z",
          "start_time": "2022-07-22T02:26:46.940847Z"
        },
        "id": "f6c53ba6"
      },
      "outputs": [],
      "source": [
        "import sys\n",
        "import time\n",
        "import os"
      ]
    },
    {
      "cell_type": "code",
      "execution_count": null,
      "id": "e37570a3",
      "metadata": {
        "ExecuteTime": {
          "end_time": "2022-07-22T02:27:12.466492Z",
          "start_time": "2022-07-22T02:27:12.461479Z"
        },
        "id": "e37570a3",
        "outputId": "f0fd233f-c207-4581-b23b-0f60fbad9908"
      },
      "outputs": [
        {
          "name": "stdout",
          "output_type": "stream",
          "text": [
            "hello world\n"
          ]
        }
      ],
      "source": [
        "print (\"hello world\")"
      ]
    },
    {
      "cell_type": "markdown",
      "id": "fcdde576",
      "metadata": {
        "id": "fcdde576"
      },
      "source": [
        "# list"
      ]
    },
    {
      "cell_type": "code",
      "execution_count": 7,
      "id": "0317ed45",
      "metadata": {
        "colab": {
          "base_uri": "https://localhost:8080/"
        },
        "id": "0317ed45",
        "outputId": "1e0d78eb-6d48-4951-8d05-d5f500a8a94c"
      },
      "outputs": [
        {
          "output_type": "stream",
          "name": "stdout",
          "text": [
            "['apple', 1, 3, 5, 8.3726]\n",
            "apple\n",
            "1\n",
            "3\n",
            "8.3726\n"
          ]
        }
      ],
      "source": [
        "my_list = [\"apple\", 1, 3, 5, 8.3726] \n",
        "print (my_list)\n",
        "print (my_list[0])\n",
        "print (my_list[1])\n",
        "print (my_list[2])\n",
        "print (my_list[4])"
      ]
    },
    {
      "cell_type": "code",
      "source": [
        "print (type(my_list[0]))\n",
        "print (type(my_list[1]))\n",
        "print (type(my_list[4]))"
      ],
      "metadata": {
        "colab": {
          "base_uri": "https://localhost:8080/"
        },
        "id": "gjn4NCn8zpqx",
        "outputId": "253a2dda-8bea-454c-e37e-a7dcb08708f4"
      },
      "id": "gjn4NCn8zpqx",
      "execution_count": 13,
      "outputs": [
        {
          "output_type": "stream",
          "name": "stdout",
          "text": [
            "<class 'str'>\n",
            "<class 'int'>\n",
            "<class 'float'>\n"
          ]
        }
      ]
    },
    {
      "cell_type": "code",
      "source": [
        "# Dict"
      ],
      "metadata": {
        "id": "mhV9LFqoz_-J"
      },
      "id": "mhV9LFqoz_-J",
      "execution_count": 15,
      "outputs": []
    },
    {
      "cell_type": "code",
      "source": [
        ""
      ],
      "metadata": {
        "id": "RJFUxcui0Kr5"
      },
      "id": "RJFUxcui0Kr5",
      "execution_count": null,
      "outputs": []
    }
  ],
  "metadata": {
    "hide_input": false,
    "kernelspec": {
      "display_name": "Python 3 (ipykernel)",
      "language": "python",
      "name": "python3"
    },
    "language_info": {
      "codemirror_mode": {
        "name": "ipython",
        "version": 3
      },
      "file_extension": ".py",
      "mimetype": "text/x-python",
      "name": "python",
      "nbconvert_exporter": "python",
      "pygments_lexer": "ipython3",
      "version": "3.8.12"
    },
    "toc": {
      "base_numbering": 1,
      "nav_menu": {},
      "number_sections": true,
      "sideBar": true,
      "skip_h1_title": false,
      "title_cell": "Table of Contents",
      "title_sidebar": "Contents",
      "toc_cell": false,
      "toc_position": {},
      "toc_section_display": true,
      "toc_window_display": false
    },
    "vp": {
      "vp_config_version": "1.0.0",
      "vp_menu_width": 273,
      "vp_note_display": false,
      "vp_note_width": 0,
      "vp_position": {
        "width": 278
      },
      "vp_section_display": false,
      "vp_signature": "VisualPython"
    },
    "colab": {
      "name": "python-basic.ipynb",
      "provenance": []
    }
  },
  "nbformat": 4,
  "nbformat_minor": 5
}
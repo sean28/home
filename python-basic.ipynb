{
  "cells": [
    {
      "cell_type": "code",
      "execution_count": 16,
      "id": "f6c53ba6",
      "metadata": {
        "ExecuteTime": {
          "end_time": "2022-07-22T02:26:46.945500Z",
          "start_time": "2022-07-22T02:26:46.940847Z"
        },
        "id": "f6c53ba6"
      },
      "outputs": [],
      "source": [
        "import sys\n",
        "import time\n",
        "import os"
      ]
    },
    {
      "cell_type": "code",
      "execution_count": 17,
      "id": "e37570a3",
      "metadata": {
        "ExecuteTime": {
          "end_time": "2022-07-22T02:27:12.466492Z",
          "start_time": "2022-07-22T02:27:12.461479Z"
        },
        "id": "e37570a3",
        "outputId": "7d5e07f7-cd31-45c8-911b-fc1a22bca06d",
        "colab": {
          "base_uri": "https://localhost:8080/"
        }
      },
      "outputs": [
        {
          "output_type": "stream",
          "name": "stdout",
          "text": [
            "hello world\n"
          ]
        }
      ],
      "source": [
        "print (\"hello world\")"
      ]
    },
    {
      "cell_type": "markdown",
      "id": "fcdde576",
      "metadata": {
        "id": "fcdde576"
      },
      "source": [
        "# list"
      ]
    },
    {
      "cell_type": "code",
      "execution_count": 18,
      "id": "0317ed45",
      "metadata": {
        "colab": {
          "base_uri": "https://localhost:8080/"
        },
        "id": "0317ed45",
        "outputId": "2f16db52-5310-48c8-ce36-8b237f1aeb39"
      },
      "outputs": [
        {
          "output_type": "stream",
          "name": "stdout",
          "text": [
            "['apple', 1, 3, 5, 8.3726]\n",
            "apple\n",
            "1\n",
            "3\n",
            "8.3726\n"
          ]
        }
      ],
      "source": [
        "my_list = [\"apple\", 1, 3, 5, 8.3726] \n",
        "print (my_list)\n",
        "print (my_list[0])\n",
        "print (my_list[1])\n",
        "print (my_list[2])\n",
        "print (my_list[4])"
      ]
    },
    {
      "cell_type": "code",
      "source": [
        "print (type(my_list[0]))\n",
        "print (type(my_list[1]))\n",
        "print (type(my_list[4]))"
      ],
      "metadata": {
        "colab": {
          "base_uri": "https://localhost:8080/"
        },
        "id": "gjn4NCn8zpqx",
        "outputId": "7f54b1af-e098-4090-f9f5-9565e229bf8c"
      },
      "id": "gjn4NCn8zpqx",
      "execution_count": 19,
      "outputs": [
        {
          "output_type": "stream",
          "name": "stdout",
          "text": [
            "<class 'str'>\n",
            "<class 'int'>\n",
            "<class 'float'>\n"
          ]
        }
      ]
    },
    {
      "cell_type": "code",
      "source": [
        ""
      ],
      "metadata": {
        "id": "mhV9LFqoz_-J"
      },
      "id": "mhV9LFqoz_-J",
      "execution_count": null,
      "outputs": []
    },
    {
      "cell_type": "markdown",
      "source": [
        "# Dict"
      ],
      "metadata": {
        "id": "8BtGCTGB2ESF"
      },
      "id": "8BtGCTGB2ESF"
    },
    {
      "cell_type": "code",
      "source": [
        "zidian = {1: \"apple\", 2: 5 }\n",
        "\n",
        "print (zidian[1])\n",
        "print (zidian[2])"
      ],
      "metadata": {
        "id": "RJFUxcui0Kr5",
        "outputId": "810d76e9-8fb6-46d5-aaa3-33e43c82c25a",
        "colab": {
          "base_uri": "https://localhost:8080/"
        }
      },
      "id": "RJFUxcui0Kr5",
      "execution_count": 25,
      "outputs": [
        {
          "output_type": "stream",
          "name": "stdout",
          "text": [
            "apple\n",
            "5\n"
          ]
        }
      ]
    }
  ],
  "metadata": {
    "hide_input": false,
    "kernelspec": {
      "display_name": "Python 3 (ipykernel)",
      "language": "python",
      "name": "python3"
    },
    "language_info": {
      "codemirror_mode": {
        "name": "ipython",
        "version": 3
      },
      "file_extension": ".py",
      "mimetype": "text/x-python",
      "name": "python",
      "nbconvert_exporter": "python",
      "pygments_lexer": "ipython3",
      "version": "3.8.12"
    },
    "toc": {
      "base_numbering": 1,
      "nav_menu": {},
      "number_sections": true,
      "sideBar": true,
      "skip_h1_title": false,
      "title_cell": "Table of Contents",
      "title_sidebar": "Contents",
      "toc_cell": false,
      "toc_position": {},
      "toc_section_display": true,
      "toc_window_display": false
    },
    "vp": {
      "vp_config_version": "1.0.0",
      "vp_menu_width": 273,
      "vp_note_display": false,
      "vp_note_width": 0,
      "vp_position": {
        "width": 278
      },
      "vp_section_display": false,
      "vp_signature": "VisualPython"
    },
    "colab": {
      "name": "python-basic.ipynb",
      "provenance": []
    }
  },
  "nbformat": 4,
  "nbformat_minor": 5
}